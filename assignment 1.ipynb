{
 "cells": [
  {
   "cell_type": "code",
   "execution_count": 1,
   "id": "e1d1fbd3-df20-4140-8421-5f0459555164",
   "metadata": {},
   "outputs": [],
   "source": [
    "#QUESTION 1\n",
    "# Creat one variable containing following type of data\n",
    "#string\n",
    "#list\n",
    "#float\n",
    "#tuple"
   ]
  },
  {
   "cell_type": "code",
   "execution_count": 2,
   "id": "d31c9277-e814-4413-a353-6895def96c0e",
   "metadata": {},
   "outputs": [],
   "source": [
    "a='konika'"
   ]
  },
  {
   "cell_type": "code",
   "execution_count": 3,
   "id": "b5f8943d-dd00-4847-a560-ab2e8a28624f",
   "metadata": {},
   "outputs": [],
   "source": [
    "b=[45,'konika',33.3,True]"
   ]
  },
  {
   "cell_type": "code",
   "execution_count": 4,
   "id": "9ad1ca23-70ae-44e7-82a8-390be0efc34f",
   "metadata": {},
   "outputs": [],
   "source": [
    "c=99.49"
   ]
  },
  {
   "cell_type": "code",
   "execution_count": 5,
   "id": "e8768288-6177-4977-b855-435575570f16",
   "metadata": {},
   "outputs": [],
   "source": [
    "d=(4,5,6)"
   ]
  },
  {
   "cell_type": "code",
   "execution_count": 6,
   "id": "f72cc31c-8ce9-415e-820b-5105180b168e",
   "metadata": {},
   "outputs": [
    {
     "data": {
      "text/plain": [
       "str"
      ]
     },
     "execution_count": 6,
     "metadata": {},
     "output_type": "execute_result"
    }
   ],
   "source": [
    "type(a)"
   ]
  },
  {
   "cell_type": "code",
   "execution_count": 7,
   "id": "1cc12f33-039c-4848-9a63-53dbdeab5363",
   "metadata": {},
   "outputs": [
    {
     "data": {
      "text/plain": [
       "list"
      ]
     },
     "execution_count": 7,
     "metadata": {},
     "output_type": "execute_result"
    }
   ],
   "source": [
    "type(b)"
   ]
  },
  {
   "cell_type": "code",
   "execution_count": 8,
   "id": "1a3dbe5a-94f8-4d25-8817-7f805c90147d",
   "metadata": {},
   "outputs": [
    {
     "data": {
      "text/plain": [
       "float"
      ]
     },
     "execution_count": 8,
     "metadata": {},
     "output_type": "execute_result"
    }
   ],
   "source": [
    "type(c)"
   ]
  },
  {
   "cell_type": "code",
   "execution_count": 9,
   "id": "7d9f948e-57a9-423c-9337-52c951edf44a",
   "metadata": {},
   "outputs": [
    {
     "data": {
      "text/plain": [
       "tuple"
      ]
     },
     "execution_count": 9,
     "metadata": {},
     "output_type": "execute_result"
    }
   ],
   "source": [
    "type(d)"
   ]
  },
  {
   "cell_type": "code",
   "execution_count": 10,
   "id": "9e24ff8f-e6ca-45f0-baf0-01e3de29235d",
   "metadata": {},
   "outputs": [],
   "source": [
    "#QUESTION 2\n",
    "# given are some following variable containing data\n",
    "# var1=''\n",
    "# var2='[DS,ML,Python]'\n",
    "#var3=['DS','ML','Python']\n",
    "#var4=1\n",
    "#what are the data type of the above given variable."
   ]
  },
  {
   "cell_type": "code",
   "execution_count": 11,
   "id": "1441d418-b3e3-48cb-a15e-5e052372a1de",
   "metadata": {},
   "outputs": [],
   "source": [
    "var1=''"
   ]
  },
  {
   "cell_type": "code",
   "execution_count": 12,
   "id": "5b99f19c-6a8a-4580-8903-2a35e34063c9",
   "metadata": {},
   "outputs": [
    {
     "data": {
      "text/plain": [
       "str"
      ]
     },
     "execution_count": 12,
     "metadata": {},
     "output_type": "execute_result"
    }
   ],
   "source": [
    "type(var1)"
   ]
  },
  {
   "cell_type": "code",
   "execution_count": 13,
   "id": "01c116c6-e297-4c3b-90e1-25e317ec16ec",
   "metadata": {},
   "outputs": [],
   "source": [
    "var2='[DS,ML,Python]'"
   ]
  },
  {
   "cell_type": "code",
   "execution_count": 14,
   "id": "83880c65-c93f-4d8e-a196-6b703b8b9ace",
   "metadata": {},
   "outputs": [
    {
     "data": {
      "text/plain": [
       "str"
      ]
     },
     "execution_count": 14,
     "metadata": {},
     "output_type": "execute_result"
    }
   ],
   "source": [
    "type(var2)"
   ]
  },
  {
   "cell_type": "code",
   "execution_count": 15,
   "id": "904ea9c9-cdee-415e-959c-25aa1e8ab9e8",
   "metadata": {},
   "outputs": [],
   "source": [
    "var3=['DS','ML','Python']"
   ]
  },
  {
   "cell_type": "code",
   "execution_count": 16,
   "id": "2ba97b59-2e3d-4aab-8e62-7f8f8d546c9d",
   "metadata": {},
   "outputs": [
    {
     "data": {
      "text/plain": [
       "list"
      ]
     },
     "execution_count": 16,
     "metadata": {},
     "output_type": "execute_result"
    }
   ],
   "source": [
    "type(var3)"
   ]
  },
  {
   "cell_type": "code",
   "execution_count": 17,
   "id": "2bdf2f53-9035-4397-b521-489ede5ef2c9",
   "metadata": {},
   "outputs": [],
   "source": [
    "var4=1"
   ]
  },
  {
   "cell_type": "code",
   "execution_count": 18,
   "id": "26c2f506-7154-42f7-b1e2-716362b7174d",
   "metadata": {},
   "outputs": [
    {
     "data": {
      "text/plain": [
       "int"
      ]
     },
     "execution_count": 18,
     "metadata": {},
     "output_type": "execute_result"
    }
   ],
   "source": [
    "type(var4)"
   ]
  },
  {
   "cell_type": "code",
   "execution_count": 19,
   "id": "abb414d1-2cc1-4e95-a2cc-03d94dc09aec",
   "metadata": {},
   "outputs": [],
   "source": [
    "#QUESTION 3\n",
    "# Explain the use of the following operators using an example\n",
    "#/\n",
    "#%\n",
    "#//\n",
    "#**"
   ]
  },
  {
   "cell_type": "code",
   "execution_count": 20,
   "id": "9806f7c9-042a-4bb0-a0b3-1b139e9a3c00",
   "metadata": {},
   "outputs": [
    {
     "data": {
      "text/plain": [
       "5.0"
      ]
     },
     "execution_count": 20,
     "metadata": {},
     "output_type": "execute_result"
    }
   ],
   "source": [
    "10/2  # / used for division "
   ]
  },
  {
   "cell_type": "code",
   "execution_count": 21,
   "id": "02a2449b-763b-48d3-8438-6ed8a9e3d349",
   "metadata": {},
   "outputs": [
    {
     "data": {
      "text/plain": [
       "1"
      ]
     },
     "execution_count": 21,
     "metadata": {},
     "output_type": "execute_result"
    }
   ],
   "source": [
    "7%3  # modulus operator(%) used to show remainder"
   ]
  },
  {
   "cell_type": "code",
   "execution_count": 22,
   "id": "5fc4b3fb-f63a-4a00-a737-202520748dde",
   "metadata": {},
   "outputs": [
    {
     "data": {
      "text/plain": [
       "2"
      ]
     },
     "execution_count": 22,
     "metadata": {},
     "output_type": "execute_result"
    }
   ],
   "source": [
    "7//3 #integer division"
   ]
  },
  {
   "cell_type": "code",
   "execution_count": 23,
   "id": "7ebafd1f-3888-4a67-bd29-ca2a91fb0be5",
   "metadata": {},
   "outputs": [
    {
     "data": {
      "text/plain": [
       "8"
      ]
     },
     "execution_count": 23,
     "metadata": {},
     "output_type": "execute_result"
    }
   ],
   "source": [
    "2**3 # exponent power opertor"
   ]
  },
  {
   "cell_type": "code",
   "execution_count": 24,
   "id": "218b37a0-03d8-4add-8771-80a210b97c73",
   "metadata": {},
   "outputs": [],
   "source": [
    "# QUESTION 4\n",
    "# Creat a list of length 10 of your choice containing multiple type of data.Using for loop print the elemtent and its data type."
   ]
  },
  {
   "cell_type": "code",
   "execution_count": 25,
   "id": "b1298c87-8dbc-4bd6-9a0d-736069102f1d",
   "metadata": {},
   "outputs": [],
   "source": [
    "l=[33,'konika',True,44.33,44,'thakur',4+4j,False,3.23,'keshav']"
   ]
  },
  {
   "cell_type": "code",
   "execution_count": 26,
   "id": "e6546dc3-5f2f-47e0-8820-fabcdbcd0cc0",
   "metadata": {},
   "outputs": [
    {
     "data": {
      "text/plain": [
       "10"
      ]
     },
     "execution_count": 26,
     "metadata": {},
     "output_type": "execute_result"
    }
   ],
   "source": [
    "len(l)"
   ]
  },
  {
   "cell_type": "code",
   "execution_count": 27,
   "id": "bbeebbb6-88fe-4546-88fa-a63c2cfc548f",
   "metadata": {},
   "outputs": [
    {
     "name": "stdout",
     "output_type": "stream",
     "text": [
      "33\n",
      "<class 'int'>\n",
      "konika\n",
      "<class 'str'>\n",
      "True\n",
      "<class 'bool'>\n",
      "44.33\n",
      "<class 'float'>\n",
      "44\n",
      "<class 'int'>\n",
      "thakur\n",
      "<class 'str'>\n",
      "(4+4j)\n",
      "<class 'complex'>\n",
      "False\n",
      "<class 'bool'>\n",
      "3.23\n",
      "<class 'float'>\n",
      "keshav\n",
      "<class 'str'>\n"
     ]
    }
   ],
   "source": [
    "for i in l:\n",
    "    print(i)\n",
    "    print(type(i))"
   ]
  },
  {
   "cell_type": "code",
   "execution_count": 28,
   "id": "1aff3c52-f4da-410e-8793-ae37a34a32b0",
   "metadata": {},
   "outputs": [],
   "source": [
    "#QUESTION 5\n",
    "# Using a while loop.Verify if the number A is purely divisible by number B and if so then how many times it can be divisble."
   ]
  },
  {
   "cell_type": "code",
   "execution_count": null,
   "id": "e7a1c28f-79bc-46c7-a984-a13f1914e1bb",
   "metadata": {},
   "outputs": [],
   "source": [
    "n=int(input('enter a number A'))\n",
    "m=int(input('enter a number B'))\n",
    "while n%m==0:\n",
    "        print('yes A is purely divisible by number B')\n",
    "else:\n",
    "    print('no A is not divisible by number B')"
   ]
  },
  {
   "cell_type": "code",
   "execution_count": 1,
   "id": "7ac18cad-8bbe-4d9b-b3fb-01f4c02d43b9",
   "metadata": {},
   "outputs": [],
   "source": [
    "# infinite time it can be divisible "
   ]
  },
  {
   "cell_type": "code",
   "execution_count": 2,
   "id": "28f9656b-e90d-4043-be4e-8bbac3aa023d",
   "metadata": {},
   "outputs": [],
   "source": [
    "#QUESTION 6\n",
    "# Creat a list containing 25 int type data.Using for loop and if else condition print if the element is divisible by 3 or not."
   ]
  },
  {
   "cell_type": "code",
   "execution_count": 17,
   "id": "f91c4a08-a0b8-4ef5-b62d-f745dcc07251",
   "metadata": {},
   "outputs": [],
   "source": [
    "l=[3,100,4,2,56,7,8,65,54,433,456,54,445,456,34,332,55,448,43,22,104,224,244,2244,120]"
   ]
  },
  {
   "cell_type": "code",
   "execution_count": 18,
   "id": "67df5336-d57d-42ce-b211-fcdedc8a55e4",
   "metadata": {},
   "outputs": [
    {
     "data": {
      "text/plain": [
       "25"
      ]
     },
     "execution_count": 18,
     "metadata": {},
     "output_type": "execute_result"
    }
   ],
   "source": [
    "len(l)"
   ]
  },
  {
   "cell_type": "code",
   "execution_count": 4,
   "id": "b379205b-d2b7-49fd-a855-55aedb68c39a",
   "metadata": {},
   "outputs": [
    {
     "name": "stdout",
     "output_type": "stream",
     "text": [
      "3\n",
      "yes the number is divisible by 3\n",
      "100\n",
      "no the number is not divisible by 3\n",
      "4\n",
      "no the number is not divisible by 3\n",
      "2\n",
      "no the number is not divisible by 3\n",
      "4\n",
      "no the number is not divisible by 3\n",
      "56\n",
      "no the number is not divisible by 3\n",
      "7\n",
      "no the number is not divisible by 3\n",
      "8\n",
      "no the number is not divisible by 3\n",
      "65\n",
      "no the number is not divisible by 3\n",
      "54\n",
      "yes the number is divisible by 3\n",
      "433\n",
      "no the number is not divisible by 3\n",
      "456\n",
      "yes the number is divisible by 3\n",
      "54\n",
      "yes the number is divisible by 3\n",
      "445\n",
      "no the number is not divisible by 3\n",
      "456\n",
      "yes the number is divisible by 3\n",
      "34\n",
      "no the number is not divisible by 3\n",
      "332\n",
      "no the number is not divisible by 3\n",
      "55\n",
      "no the number is not divisible by 3\n",
      "448\n",
      "no the number is not divisible by 3\n",
      "43\n",
      "no the number is not divisible by 3\n",
      "22\n",
      "no the number is not divisible by 3\n",
      "104\n",
      "no the number is not divisible by 3\n",
      "224\n",
      "no the number is not divisible by 3\n",
      "244\n",
      "no the number is not divisible by 3\n",
      "2244\n",
      "yes the number is divisible by 3\n",
      "120\n",
      "yes the number is divisible by 3\n"
     ]
    }
   ],
   "source": [
    "for i in l:\n",
    "    if i%3==0:\n",
    "        print(i)\n",
    "        print('yes the number is divisible by 3')\n",
    "    elif i%3!=0:\n",
    "        print(i)\n",
    "        print('no the number is not divisible by 3')\n",
    "    "
   ]
  },
  {
   "cell_type": "code",
   "execution_count": 5,
   "id": "82d8dbdf-535c-4fab-98b9-82ac35e2a727",
   "metadata": {},
   "outputs": [],
   "source": [
    "#QUESTION 7\n",
    "#what do you understand about mutable and immutable data types?Give an examples for both showing this property."
   ]
  },
  {
   "cell_type": "code",
   "execution_count": 6,
   "id": "d8737fa9-f2bf-41d9-acd2-e524fbacb084",
   "metadata": {},
   "outputs": [],
   "source": [
    "# ANS: we can change the entery in mutable data type with indexing system for example"
   ]
  },
  {
   "cell_type": "code",
   "execution_count": 7,
   "id": "86fc7bbd-5c9d-4978-b7f6-117263895b67",
   "metadata": {},
   "outputs": [],
   "source": [
    "l=[34,'konika',33.3,2+6j,True,4,2]"
   ]
  },
  {
   "cell_type": "code",
   "execution_count": 8,
   "id": "d8f9bb4c-2bde-423a-ae4d-b5ad7baef750",
   "metadata": {},
   "outputs": [],
   "source": [
    "l[1]='keshav'"
   ]
  },
  {
   "cell_type": "code",
   "execution_count": 9,
   "id": "1069e16c-591e-433b-a1db-9436a9feee86",
   "metadata": {},
   "outputs": [
    {
     "data": {
      "text/plain": [
       "[34, 'keshav', 33.3, (2+6j), True, 4, 2]"
      ]
     },
     "execution_count": 9,
     "metadata": {},
     "output_type": "execute_result"
    }
   ],
   "source": [
    "l"
   ]
  },
  {
   "cell_type": "code",
   "execution_count": 10,
   "id": "fce940d8-fa25-4aab-98bb-fe87a6d60efa",
   "metadata": {},
   "outputs": [],
   "source": [
    "#therefore list is a mutable data where as string is a immutable data for exmaple"
   ]
  },
  {
   "cell_type": "code",
   "execution_count": 11,
   "id": "5ef31dd5-f5c0-4a9c-98f9-ece8f2cabdbb",
   "metadata": {},
   "outputs": [],
   "source": [
    "a='konika'"
   ]
  },
  {
   "cell_type": "code",
   "execution_count": 12,
   "id": "f598ce6c-950c-4323-9776-e4ed2a500b02",
   "metadata": {},
   "outputs": [
    {
     "ename": "TypeError",
     "evalue": "'str' object does not support item assignment",
     "output_type": "error",
     "traceback": [
      "\u001b[0;31m---------------------------------------------------------------------------\u001b[0m",
      "\u001b[0;31mTypeError\u001b[0m                                 Traceback (most recent call last)",
      "Cell \u001b[0;32mIn[12], line 1\u001b[0m\n\u001b[0;32m----> 1\u001b[0m \u001b[43ma\u001b[49m\u001b[43m[\u001b[49m\u001b[38;5;241;43m3\u001b[39;49m\u001b[43m]\u001b[49m\u001b[38;5;241m=\u001b[39m\u001b[38;5;124m'\u001b[39m\u001b[38;5;124mm\u001b[39m\u001b[38;5;124m'\u001b[39m\n",
      "\u001b[0;31mTypeError\u001b[0m: 'str' object does not support item assignment"
     ]
    }
   ],
   "source": [
    "a[3]='m'"
   ]
  },
  {
   "cell_type": "code",
   "execution_count": 13,
   "id": "bedb47d8-6c40-4a68-9bdd-b58a6cb5d302",
   "metadata": {},
   "outputs": [],
   "source": [
    "# u can see that data is immuatable in string"
   ]
  },
  {
   "cell_type": "code",
   "execution_count": null,
   "id": "8f13c13d-9f9e-46c7-a034-87e10c7c1176",
   "metadata": {},
   "outputs": [],
   "source": []
  }
 ],
 "metadata": {
  "kernelspec": {
   "display_name": "Python 3 (ipykernel)",
   "language": "python",
   "name": "python3"
  },
  "language_info": {
   "codemirror_mode": {
    "name": "ipython",
    "version": 3
   },
   "file_extension": ".py",
   "mimetype": "text/x-python",
   "name": "python",
   "nbconvert_exporter": "python",
   "pygments_lexer": "ipython3",
   "version": "3.10.8"
  }
 },
 "nbformat": 4,
 "nbformat_minor": 5
}
